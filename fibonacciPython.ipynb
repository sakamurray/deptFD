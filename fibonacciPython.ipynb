{
 "cells": [
  {
   "cell_type": "markdown",
   "id": "e5b4a48d",
   "metadata": {},
   "source": [
    "# フィボナッチ数　Python版"
   ]
  },
  {
   "cell_type": "code",
   "execution_count": 1,
   "id": "9389bd30",
   "metadata": {},
   "outputs": [
    {
     "name": "stdout",
     "output_type": "stream",
     "text": [
      "63245986\n",
      "経過時間：24.271502256393433\n"
     ]
    }
   ],
   "source": [
    "import time\n",
    "\n",
    "def fib(n):\n",
    "    if n < 2:\n",
    "        return n\n",
    "    else:\n",
    "        return fib(n-2) + fib(n-1)\n",
    "\n",
    "\n",
    "n = int(input())\n",
    "\n",
    "t1 = time.time()\n",
    "\n",
    "N = fib(n)\n",
    "\n",
    "t2 = time.time()\n",
    "\n",
    "print(N)\n",
    "\n",
    "elapsed_time = t2-t1\n",
    "print(f\"経過時間：{elapsed_time}\")"
   ]
  }
 ],
 "metadata": {
  "kernelspec": {
   "display_name": "Python 3.10.6 64-bit",
   "language": "python",
   "name": "python3"
  },
  "language_info": {
   "codemirror_mode": {
    "name": "ipython",
    "version": 3
   },
   "file_extension": ".py",
   "mimetype": "text/x-python",
   "name": "python",
   "nbconvert_exporter": "python",
   "pygments_lexer": "ipython3",
   "version": "3.10.6"
  },
  "vscode": {
   "interpreter": {
    "hash": "aee8b7b246df8f9039afb4144a1f6fd8d2ca17a180786b69acc140d282b71a49"
   }
  }
 },
 "nbformat": 4,
 "nbformat_minor": 5
}
