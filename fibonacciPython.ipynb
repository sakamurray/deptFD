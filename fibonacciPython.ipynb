{
 "cells": [
  {
   "cell_type": "markdown",
   "id": "e5b4a48d",
   "metadata": {},
   "source": [
    "# フィボナッチ数　Python版"
   ]
  },
  {
   "cell_type": "code",
   "execution_count": 9,
   "id": "9389bd30",
   "metadata": {},
   "outputs": [
    {
     "name": "stdout",
     "output_type": "stream",
     "text": [
      "30\n",
      "832040\n",
      "経過時間：0.2918431758880615\n"
     ]
    }
   ],
   "source": [
    "import time\n",
    "\n",
    "def fib(n):\n",
    "    if n < 2:\n",
    "        return n\n",
    "    else:\n",
    "        return fib(n-2) + fib(n-1)\n",
    "\n",
    "\n",
    "n = int(input())\n",
    "\n",
    "t1 = time.time()\n",
    "\n",
    "N = fib(n)\n",
    "\n",
    "t2 = time.time()\n",
    "\n",
    "print(N)\n",
    "\n",
    "elapsed_time = t2-t1\n",
    "print(f\"経過時間：{elapsed_time}\")"
   ]
  },
  {
   "cell_type": "code",
   "execution_count": null,
   "id": "b9db2edd",
   "metadata": {},
   "outputs": [],
   "source": []
  }
 ],
 "metadata": {
  "kernelspec": {
   "display_name": "Python 3 (ipykernel)",
   "language": "python",
   "name": "python3"
  },
  "language_info": {
   "codemirror_mode": {
    "name": "ipython",
    "version": 3
   },
   "file_extension": ".py",
   "mimetype": "text/x-python",
   "name": "python",
   "nbconvert_exporter": "python",
   "pygments_lexer": "ipython3",
   "version": "3.7.13"
  }
 },
 "nbformat": 4,
 "nbformat_minor": 5
}
