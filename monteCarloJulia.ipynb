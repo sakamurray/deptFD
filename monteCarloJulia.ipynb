{
 "cells": [
  {
   "cell_type": "markdown",
   "id": "89736239",
   "metadata": {},
   "source": [
    "# モンテカルロ法による円周率計算 Julia版"
   ]
  },
  {
   "cell_type": "code",
   "execution_count": 10,
   "id": "ecdeb6d8",
   "metadata": {},
   "outputs": [
    {
     "name": "stdout",
     "output_type": "stream",
     "text": [
      "3.14148368\n",
      "  0.460488 seconds (28 allocations: 976 bytes)\n"
     ]
    }
   ],
   "source": [
    "using Random\n",
    "\n",
    "function montecarlo()\n",
    "    totalcount = 100000000\n",
    "    incount = 0\n",
    "    for i = 1:totalcount\n",
    "        x = rand()\n",
    "        y = rand()  \n",
    "        if x^2 + y^2 < 1\n",
    "            incount += 1\n",
    "        end\n",
    "    end\n",
    "    return 4*incount/totalcount\n",
    "end\n",
    "\n",
    "@time println(montecarlo())\n",
    "\n",
    "\n"
   ]
  },
  {
   "cell_type": "code",
   "execution_count": 11,
   "id": "3ad460e9",
   "metadata": {},
   "outputs": [
    {
     "data": {
      "text/plain": [
       "226.08695652173913"
      ]
     },
     "execution_count": 11,
     "metadata": {},
     "output_type": "execute_result"
    }
   ],
   "source": [
    "104/0.46"
   ]
  },
  {
   "cell_type": "code",
   "execution_count": null,
   "id": "6d0ac557",
   "metadata": {},
   "outputs": [],
   "source": []
  }
 ],
 "metadata": {
  "kernelspec": {
   "display_name": "Julia 1.7.2",
   "language": "julia",
   "name": "julia-1.7"
  },
  "language_info": {
   "file_extension": ".jl",
   "mimetype": "application/julia",
   "name": "julia",
   "version": "1.7.3"
  }
 },
 "nbformat": 4,
 "nbformat_minor": 5
}
