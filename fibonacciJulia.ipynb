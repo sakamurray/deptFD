{
 "cells": [
  {
   "cell_type": "markdown",
   "id": "89736239",
   "metadata": {},
   "source": [
    "# フィボナッチ数 Julia版"
   ]
  },
  {
   "cell_type": "code",
   "execution_count": 1,
   "id": "ecdeb6d8",
   "metadata": {},
   "outputs": [
    {
     "name": "stdout",
     "output_type": "stream",
     "text": [
      "  0.320463 seconds (1.71 k allocations: 93.640 KiB, 0.99% compilation time)\n"
     ]
    },
    {
     "data": {
      "text/plain": [
       "63245986"
      ]
     },
     "execution_count": 1,
     "metadata": {},
     "output_type": "execute_result"
    }
   ],
   "source": [
    "function fib(n)\n",
    "    if n < 2\n",
    "        return n\n",
    "    else\n",
    "        return fib(n-2) + fib(n-1)\n",
    "    end\n",
    "end\n",
    "\n",
    "n = readline()\n",
    "n = parse(Int64, n)\n",
    "\n",
    "@time fib(n)\n",
    "\n",
    "#@time for i = 1:n\n",
    "#    println(\"fib(\",i,\")=\",fib(i))\n",
    "#end\n"
   ]
  }
 ],
 "metadata": {
  "kernelspec": {
   "display_name": "Julia 1.7.2",
   "language": "julia",
   "name": "julia-1.7"
  },
  "language_info": {
   "file_extension": ".jl",
   "mimetype": "application/julia",
   "name": "julia",
   "version": "1.7.3"
  }
 },
 "nbformat": 4,
 "nbformat_minor": 5
}
