{
 "cells": [
  {
   "cell_type": "markdown",
   "id": "89736239",
   "metadata": {},
   "source": [
    "# フィボナッチ数 Julia版"
   ]
  },
  {
   "cell_type": "markdown",
   "id": "03cff257",
   "metadata": {},
   "source": [
    "フィボナッチ数列\n",
    "\n",
    "$$F_0 = 0$$\n",
    "$$F_1 = 1$$\n",
    "$$F_{n} = F_{n-2} + F_{n-1} \\ \\ \\ (n \\ge 2)$$"
   ]
  },
  {
   "cell_type": "code",
   "execution_count": 2,
   "id": "ecdeb6d8",
   "metadata": {},
   "outputs": [
    {
     "name": "stdout",
     "output_type": "stream",
     "text": [
      "  0.008297 seconds (1.65 k allocations: 86.142 KiB, 44.47% compilation time)\n"
     ]
    },
    {
     "data": {
      "text/plain": [
       "832040"
      ]
     },
     "execution_count": 2,
     "metadata": {},
     "output_type": "execute_result"
    }
   ],
   "source": [
    "function fib(n)\n",
    "    if n < 2\n",
    "        return n\n",
    "    else\n",
    "        return fib(n-2) + fib(n-1)\n",
    "    end\n",
    "end\n",
    "\n",
    "n = readline()\n",
    "n = parse(Int64, n)\n",
    "\n",
    "@time fib(n)\n"
   ]
  }
 ],
 "metadata": {
  "kernelspec": {
   "display_name": "Julia 1.8.0",
   "language": "julia",
   "name": "julia-1.8"
  },
  "language_info": {
   "file_extension": ".jl",
   "mimetype": "application/julia",
   "name": "julia",
   "version": "1.8.0"
  }
 },
 "nbformat": 4,
 "nbformat_minor": 5
}
