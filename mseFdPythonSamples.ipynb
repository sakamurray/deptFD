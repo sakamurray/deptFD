{
 "cells": [
  {
   "cell_type": "markdown",
   "id": "a2eecf6c-175c-44a6-9d17-1b51aa0d39df",
   "metadata": {},
   "source": [
    "# 2022年度学科FD研修会用サンプルコード Python版"
   ]
  },
  {
   "cell_type": "markdown",
   "id": "3375aef4-758e-481b-a023-168347b183a0",
   "metadata": {},
   "source": [
    "## 速さの比較\n",
    "\n",
    "### 常微分方程式の初期値問題の数値計算\n",
    "\n",
    "$$\\frac{dy}{dx}=-y(x), \\ \\ \\ y(0) = 1$$\n",
    "\n",
    "$$x_1 = 0, x_{n+1} = x_{n} + h \\ \\  (n=1, \\cdots N)$$\n",
    "として上式をオイラー陽解法で離散化すると\n",
    "\n",
    "$$y_{n+1} = (1-h)y_n$$\n",
    "\n",
    "なお，厳密解は\n",
    "$$y = \\exp(-x)$$\n",
    "\n",
    "以下のPythonコードは，@ceptreeさんの[サイト](https://qiita.com/ceptree/items/b5cfca180e85e61c42a8#comment-e81252566d0a7a2ffadc)に掲載されているものを一部改変したもの\n"
   ]
  },
  {
   "cell_type": "code",
   "execution_count": 1,
   "id": "13f09eb7-0308-410b-b11c-1c022a317d39",
   "metadata": {},
   "outputs": [
    {
     "name": "stdout",
     "output_type": "stream",
     "text": [
      "Elapsed Time(Python): 41.29 [s]\n"
     ]
    }
   ],
   "source": [
    "import numpy as np \n",
    "import time\n",
    "\n",
    "# 点数\n",
    "N = 100000000\n",
    "\n",
    "# 刻み \n",
    "h = 4/N\n",
    "\n",
    "# 初期化\n",
    "y = np.zeros(N)\n",
    "\n",
    "# 初期値\n",
    "y[0] = 1\n",
    "\n",
    "# 数値計算\n",
    "start = time.time()\n",
    "\n",
    "for n in range(N-1):\n",
    "    y[n+1] = (1-h)*y[n]\n",
    "\n",
    "elapsed_time = time.time() - start\n",
    "print(\"Elapsed Time(Python): %.2f [s]\" % elapsed_time)"
   ]
  },
  {
   "cell_type": "code",
   "execution_count": null,
   "id": "7674f0ff-8bcc-4e4c-b4cd-32ba5730e085",
   "metadata": {},
   "outputs": [],
   "source": []
  }
 ],
 "metadata": {
  "kernelspec": {
   "display_name": "Python 3.7.13 ('base')",
   "language": "python",
   "name": "python3"
  },
  "language_info": {
   "codemirror_mode": {
    "name": "ipython",
    "version": 3
   },
   "file_extension": ".py",
   "mimetype": "text/x-python",
   "name": "python",
   "nbconvert_exporter": "python",
   "pygments_lexer": "ipython3",
   "version": "3.7.13"
  },
  "vscode": {
   "interpreter": {
    "hash": "23405bc91e120b5dde23a164ce85f7467ede5a9bf85c096b28b3dbd7ec4875e2"
   }
  }
 },
 "nbformat": 4,
 "nbformat_minor": 5
}
