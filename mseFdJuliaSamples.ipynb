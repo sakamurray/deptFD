{
 "cells": [
  {
   "cell_type": "markdown",
   "id": "b49afc3f",
   "metadata": {},
   "source": [
    "# 2022年度学科FD研修会用サンプルコード Julia版"
   ]
  },
  {
   "cell_type": "markdown",
   "id": "0fa78aca",
   "metadata": {},
   "source": [
    "## 速さの比較\n",
    "\n",
    "### 常微分方程式の初期値問題の数値計算\n",
    "\n",
    "$$\\frac{dy}{dx}=-y(x), \\ \\ \\ y(0) = 1$$\n",
    "\n",
    "$$x_1 = 0, x_{n+1} = x_{n} + h \\ \\  (n=1, \\cdots N)$$\n",
    "として上式をオイラー陽解法で離散化すると\n",
    "\n",
    "$$y_{n+1} = (1-h)y_n$$\n",
    "\n",
    "なお，厳密解は\n",
    "$$y = \\exp(-x)$$\n"
   ]
  },
  {
   "cell_type": "markdown",
   "id": "63943e52",
   "metadata": {},
   "source": [
    "### Juliaコード (1)"
   ]
  },
  {
   "cell_type": "code",
   "execution_count": 7,
   "id": "94c1d304",
   "metadata": {},
   "outputs": [
    {
     "data": {
      "text/plain": [
       "BenchmarkTools.Trial: 1 sample with 1 evaluation.\n",
       " Single result which took \u001b[34m20.262 s\u001b[39m (8.84% GC) to evaluate,\n",
       " with a memory estimate of \u001b[33m11.92 GiB\u001b[39m, over \u001b[33m699998463\u001b[39m allocations."
      ]
     },
     "execution_count": 7,
     "metadata": {},
     "output_type": "execute_result"
    }
   ],
   "source": [
    "using BenchmarkTools\n",
    "\n",
    "N = 100000000 # 分割数\n",
    "h = 4/N # 刻み幅\n",
    "\n",
    "y = zeros(N)\n",
    "\n",
    "\n",
    "y[1] = 1 # 初期値の設定\n",
    "\n",
    "# 数値解\n",
    "@benchmark for n = 1:N-1\n",
    "    y[n+1] = (1-h)y[n]\n",
    "end"
   ]
  },
  {
   "cell_type": "markdown",
   "id": "57299514",
   "metadata": {},
   "source": [
    "### Juliaコード（2）"
   ]
  },
  {
   "cell_type": "code",
   "execution_count": 10,
   "id": "09404f92",
   "metadata": {},
   "outputs": [
    {
     "data": {
      "text/plain": [
       "BenchmarkTools.Trial: 11 samples with 1 evaluation.\n",
       " Range \u001b[90m(\u001b[39m\u001b[36m\u001b[1mmin\u001b[22m\u001b[39m … \u001b[35mmax\u001b[39m\u001b[90m):  \u001b[39m\u001b[36m\u001b[1m440.152 ms\u001b[22m\u001b[39m … \u001b[35m538.777 ms\u001b[39m  \u001b[90m┊\u001b[39m GC \u001b[90m(\u001b[39mmin … max\u001b[90m): \u001b[39m0.04% … 17.40%\n",
       " Time  \u001b[90m(\u001b[39m\u001b[34m\u001b[1mmedian\u001b[22m\u001b[39m\u001b[90m):     \u001b[39m\u001b[34m\u001b[1m463.551 ms               \u001b[22m\u001b[39m\u001b[90m┊\u001b[39m GC \u001b[90m(\u001b[39mmedian\u001b[90m):    \u001b[39m0.04%\n",
       " Time  \u001b[90m(\u001b[39m\u001b[32m\u001b[1mmean\u001b[22m\u001b[39m ± \u001b[32mσ\u001b[39m\u001b[90m):   \u001b[39m\u001b[32m\u001b[1m483.409 ms\u001b[22m\u001b[39m ± \u001b[32m 40.730 ms\u001b[39m  \u001b[90m┊\u001b[39m GC \u001b[90m(\u001b[39mmean ± σ\u001b[90m):  \u001b[39m7.36% ±  8.08%\n",
       "\n",
       "  \u001b[39m▁\u001b[39m \u001b[39m \u001b[39m▁\u001b[39m \u001b[39m▁\u001b[39m█\u001b[34m \u001b[39m\u001b[39m \u001b[39m \u001b[39m \u001b[39m \u001b[39m \u001b[39m \u001b[39m▁\u001b[39m \u001b[39m \u001b[39m \u001b[39m \u001b[39m \u001b[39m \u001b[39m \u001b[39m \u001b[39m \u001b[39m \u001b[39m \u001b[39m \u001b[32m \u001b[39m\u001b[39m \u001b[39m \u001b[39m▁\u001b[39m \u001b[39m \u001b[39m \u001b[39m \u001b[39m \u001b[39m \u001b[39m \u001b[39m \u001b[39m \u001b[39m \u001b[39m \u001b[39m \u001b[39m \u001b[39m \u001b[39m \u001b[39m \u001b[39m \u001b[39m \u001b[39m \u001b[39m \u001b[39m \u001b[39m \u001b[39m \u001b[39m█\u001b[39m \u001b[39m \u001b[39m▁\u001b[39m \u001b[39m \u001b[39m▁\u001b[39m \u001b[39m \n",
       "  \u001b[39m█\u001b[39m▁\u001b[39m▁\u001b[39m█\u001b[39m▁\u001b[39m█\u001b[39m█\u001b[34m▁\u001b[39m\u001b[39m▁\u001b[39m▁\u001b[39m▁\u001b[39m▁\u001b[39m▁\u001b[39m▁\u001b[39m█\u001b[39m▁\u001b[39m▁\u001b[39m▁\u001b[39m▁\u001b[39m▁\u001b[39m▁\u001b[39m▁\u001b[39m▁\u001b[39m▁\u001b[39m▁\u001b[39m▁\u001b[39m▁\u001b[32m▁\u001b[39m\u001b[39m▁\u001b[39m▁\u001b[39m█\u001b[39m▁\u001b[39m▁\u001b[39m▁\u001b[39m▁\u001b[39m▁\u001b[39m▁\u001b[39m▁\u001b[39m▁\u001b[39m▁\u001b[39m▁\u001b[39m▁\u001b[39m▁\u001b[39m▁\u001b[39m▁\u001b[39m▁\u001b[39m▁\u001b[39m▁\u001b[39m▁\u001b[39m▁\u001b[39m▁\u001b[39m▁\u001b[39m▁\u001b[39m▁\u001b[39m█\u001b[39m▁\u001b[39m▁\u001b[39m█\u001b[39m▁\u001b[39m▁\u001b[39m█\u001b[39m \u001b[39m▁\n",
       "  440 ms\u001b[90m           Histogram: frequency by time\u001b[39m          539 ms \u001b[0m\u001b[1m<\u001b[22m\n",
       "\n",
       " Memory estimate\u001b[90m: \u001b[39m\u001b[33m762.94 MiB\u001b[39m, allocs estimate\u001b[90m: \u001b[39m\u001b[33m2\u001b[39m."
      ]
     },
     "execution_count": 10,
     "metadata": {},
     "output_type": "execute_result"
    }
   ],
   "source": [
    "function main()\n",
    "    N = 100000000\n",
    "    h = 4/N\n",
    "    y = zeros(N)\n",
    "    y[1] = 1 # 初期値の設定\n",
    "\n",
    "# 数値解\n",
    "    for n = 1:N-1\n",
    "        y[n+1] = (1-h)y[n]\n",
    "    end\n",
    "end\n",
    "\n",
    "@benchmark main()\n"
   ]
  },
  {
   "cell_type": "code",
   "execution_count": null,
   "id": "91a9ae6b-cd7e-4dab-9dd7-d9fd0068a60a",
   "metadata": {},
   "outputs": [],
   "source": []
  }
 ],
 "metadata": {
  "kernelspec": {
   "display_name": "Julia 1.7.2",
   "language": "julia",
   "name": "julia-1.7"
  },
  "language_info": {
   "file_extension": ".jl",
   "mimetype": "application/julia",
   "name": "julia",
   "version": "1.7.3"
  }
 },
 "nbformat": 4,
 "nbformat_minor": 5
}
