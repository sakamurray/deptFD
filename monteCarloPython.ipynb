{
 "cells": [
  {
   "cell_type": "markdown",
   "id": "89736239",
   "metadata": {},
   "source": [
    "# モンテカルロ法による円周率計算 Python版"
   ]
  },
  {
   "cell_type": "code",
   "execution_count": 10,
   "id": "ecdeb6d8",
   "metadata": {},
   "outputs": [
    {
     "name": "stdout",
     "output_type": "stream",
     "text": [
      "円周率: 3.14169512\n",
      "経過時間:104.46930980682373 sec\n"
     ]
    }
   ],
   "source": [
    "import numpy.random as rd\n",
    "import time\n",
    "\n",
    "totalcount = 100000000\n",
    "incount = 0\n",
    "\n",
    "ti = time.time()\n",
    "\n",
    "for i in range(totalcount):\n",
    "    x = rd.random()\n",
    "    y = rd.random()\n",
    "    if x**2 + y**2 < 1.0:\n",
    "        incount += 1\n",
    "\n",
    "print(\"円周率:\",incount * 4.0 / totalcount)\n",
    "\n",
    "te = time.time()\n",
    "elapsedTime = te-ti\n",
    "print(f\"経過時間:{elapsedTime} sec\")"
   ]
  },
  {
   "cell_type": "code",
   "execution_count": 9,
   "id": "3c247bca",
   "metadata": {},
   "outputs": [
    {
     "data": {
      "text/plain": [
       "237.77777777777777"
      ]
     },
     "execution_count": 9,
     "metadata": {},
     "output_type": "execute_result"
    }
   ],
   "source": [
    "10.7/0.045"
   ]
  },
  {
   "cell_type": "code",
   "execution_count": null,
   "id": "4de2a21a",
   "metadata": {},
   "outputs": [],
   "source": []
  }
 ],
 "metadata": {
  "kernelspec": {
   "display_name": "Python 3.7.13 ('base')",
   "language": "python",
   "name": "python3"
  },
  "language_info": {
   "codemirror_mode": {
    "name": "ipython",
    "version": 3
   },
   "file_extension": ".py",
   "mimetype": "text/x-python",
   "name": "python",
   "nbconvert_exporter": "python",
   "pygments_lexer": "ipython3",
   "version": "3.7.13"
  },
  "vscode": {
   "interpreter": {
    "hash": "23405bc91e120b5dde23a164ce85f7467ede5a9bf85c096b28b3dbd7ec4875e2"
   }
  }
 },
 "nbformat": 4,
 "nbformat_minor": 5
}
